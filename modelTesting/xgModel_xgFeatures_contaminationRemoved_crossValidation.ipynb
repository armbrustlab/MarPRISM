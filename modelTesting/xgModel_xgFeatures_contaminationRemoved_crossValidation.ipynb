{
 "cells": [
  {
   "cell_type": "code",
   "execution_count": 1,
   "metadata": {},
   "outputs": [],
   "source": [
    "import pandas as pd\n",
    "import numpy as np \n",
    "from sklearn.preprocessing import MinMaxScaler\n",
    "from sklearn.manifold import TSNE\n",
    "from sklearn.preprocessing import LabelEncoder"
   ]
  },
  {
   "cell_type": "code",
   "execution_count": 2,
   "metadata": {},
   "outputs": [],
   "source": [
    "import xgboost"
   ]
  },
  {
   "cell_type": "code",
   "execution_count": 3,
   "metadata": {},
   "outputs": [],
   "source": [
    "from xgboost import XGBClassifier"
   ]
  },
  {
   "cell_type": "code",
   "execution_count": 4,
   "metadata": {},
   "outputs": [
    {
     "data": {
      "text/plain": [
       "'1.7.4'"
      ]
     },
     "execution_count": 4,
     "metadata": {},
     "output_type": "execute_result"
    }
   ],
   "source": [
    "xgboost.__version__"
   ]
  },
  {
   "cell_type": "code",
   "execution_count": 5,
   "metadata": {
    "scrolled": true
   },
   "outputs": [],
   "source": [
    "data = pd.read_csv('../Field_training_data_noOutliers_newContaminationMetric.csv')\n",
    "labels = pd.read_csv('../Field_training_labels_noOutliers_newContaminationMetric.csv')\n",
    "data = data.reset_index(drop=True)\n",
    "labels = labels.reset_index(drop=True)\n",
    "\n",
    "idx = labels.index[labels['Trophic mode'] == 'Un']\n",
    "train_labels = labels.drop(idx)\n",
    "train_data = data.drop(idx)\n",
    "\n",
    "features = pd.read_csv('../Extracted_Pfams_noOutliers_newContaminationMetric_xg.csv')"
   ]
  },
  {
   "cell_type": "code",
   "execution_count": 6,
   "metadata": {},
   "outputs": [],
   "source": [
    "features = features['pfam']"
   ]
  },
  {
   "cell_type": "code",
   "execution_count": 7,
   "metadata": {},
   "outputs": [
    {
     "data": {
      "text/plain": [
       "183"
      ]
     },
     "execution_count": 7,
     "metadata": {},
     "output_type": "execute_result"
    }
   ],
   "source": [
    "len(features)"
   ]
  },
  {
   "cell_type": "code",
   "execution_count": 8,
   "metadata": {},
   "outputs": [],
   "source": [
    "le = LabelEncoder()"
   ]
  },
  {
   "cell_type": "code",
   "execution_count": 9,
   "metadata": {},
   "outputs": [],
   "source": [
    "train_data = train_data[features]"
   ]
  },
  {
   "cell_type": "code",
   "execution_count": 10,
   "metadata": {},
   "outputs": [],
   "source": [
    "from sklearn.model_selection import train_test_split\n",
    "from sklearn import svm"
   ]
  },
  {
   "cell_type": "code",
   "execution_count": 11,
   "metadata": {},
   "outputs": [],
   "source": [
    "X,y = train_data, le.fit_transform(train_labels['Trophic mode'])\n",
    "scaler = MinMaxScaler()\n",
    "X = scaler.fit_transform(X)"
   ]
  },
  {
   "cell_type": "code",
   "execution_count": 12,
   "metadata": {},
   "outputs": [],
   "source": [
    "#from https://scikit-learn.org/stable/modules/cross_validation.html\n",
    "X_train, X_test, y_train, y_test = train_test_split(X, y, test_size=0.4, random_state=0)"
   ]
  },
  {
   "cell_type": "code",
   "execution_count": 13,
   "metadata": {},
   "outputs": [],
   "source": [
    "from sklearn.model_selection import cross_val_score, StratifiedShuffleSplit\n",
    "from sklearn.metrics import make_scorer, f1_score\n",
    "from scipy import stats\n",
    "from xgboost import XGBClassifier\n",
    "import numpy as np\n",
    "\n",
    "# Assuming X and y are your features and labels\n",
    "\n",
    "np.random.seed(7)\n",
    "\n",
    "#{'gamma': 0.0, 'learning_rate': 0.1, 'max_depth': 3, 'n_estimators': 1000, 'reg_lambda': 1.0} \n",
    "clf = XGBClassifier(gamma=0.0, learning_rate=0.1, max_depth=3, n_estimators=1000, reg_lambda=1.0)\n",
    "\n",
    "# Define a custom scoring function for F1 score\n",
    "f1_scorer = make_scorer(f1_score, average='weighted')\n",
    "\n",
    "# Create a StratifiedShuffleSplit cross-validator\n",
    "kf = StratifiedShuffleSplit(n_splits=6, random_state=7)\n",
    "\n",
    "# Perform cross-validation and store the F1 scores\n",
    "f1_scores = cross_val_score(clf, X, y, cv=kf, scoring=f1_scorer)\n",
    "\n",
    "# save F1 scores, mean, and standard error to csv file\n",
    "data = {'F1_Scores': f1_scores}\n",
    "\n",
    "df = pd.DataFrame(data)\n",
    "\n",
    "# Save the DataFrame to a CSV file\n",
    "df.to_csv('f1_scores_results_xgModel_noOutliers_newContaminationMetric_xg.csv', index=False)"
   ]
  },
  {
   "cell_type": "code",
   "execution_count": 14,
   "metadata": {},
   "outputs": [],
   "source": [
    "from sklearn.model_selection import cross_val_score, StratifiedShuffleSplit\n",
    "from sklearn.metrics import make_scorer, f1_score\n",
    "from xgboost import XGBClassifier\n",
    "import numpy as np\n",
    "import pandas as pd\n",
    "\n",
    "# Assuming X and y are your features and labels\n",
    "\n",
    "np.random.seed(7)\n",
    "\n",
    "#{'gamma': 0.0, 'learning_rate': 0.1, 'max_depth': 3, 'n_estimators': 1000, 'reg_lambda': 1.0} #\n",
    "clf = XGBClassifier(gamma=0.0, learning_rate=0.1, max_depth=3, n_estimators=1000, reg_lambda=1.0)\n",
    "\n",
    "# Define a custom scoring function for F1 score\n",
    "def f1_scorer(y_true, y_pred):\n",
    "    return f1_score(y_true, y_pred, average=None)\n",
    "\n",
    "# Create a StratifiedShuffleSplit cross-validator\n",
    "kf = StratifiedShuffleSplit(n_splits=6, random_state=7)\n",
    "\n",
    "# Initialize an empty list to store F1 scores for each class\n",
    "all_f1_scores = []\n",
    "\n",
    "# Perform cross-validation and store the F1 scores for each fold\n",
    "for train_index, test_index in kf.split(X, y):\n",
    "    X_train, X_test = X[train_index], X[test_index]\n",
    "    y_train, y_test = y[train_index], y[test_index]\n",
    "\n",
    "    clf.fit(X_train, y_train)\n",
    "    y_pred = clf.predict(X_test)\n",
    "\n",
    "    fold_f1_scores = f1_scorer(y_test, y_pred)\n",
    "    all_f1_scores.append(fold_f1_scores)\n",
    "\n",
    "# Convert the list of arrays to a numpy array\n",
    "f1_scores = np.array(all_f1_scores)\n",
    "\n",
    "# Save the F1 scores for each class separately\n",
    "class_names = [f'Class_{i}' for i in range(f1_scores.shape[1])]\n",
    "data = {class_name: f1_scores[:, i] for i, class_name in enumerate(class_names)}\n",
    "\n",
    "df = pd.DataFrame(data)\n",
    "\n",
    "# Save the DataFrame to a CSV file\n",
    "df.to_csv('f1_scores_results_xgModel_noOutliers_newContaminationMetric_xg_byClass.csv', index=False)"
   ]
  },
  {
   "cell_type": "code",
   "execution_count": 15,
   "metadata": {
    "scrolled": true
   },
   "outputs": [
    {
     "name": "stdout",
     "output_type": "stream",
     "text": [
      "\n",
      "Number of splits (k): 6\n",
      "Train size: 0.05\n",
      "Train size: 0.1\n",
      "Train size: 0.15000000000000002\n",
      "Train size: 0.2\n",
      "Train size: 0.25\n",
      "Train size: 0.3\n",
      "Train size: 0.35000000000000003\n",
      "Train size: 0.4\n",
      "Train size: 0.45\n",
      "Train size: 0.5\n",
      "Train size: 0.55\n",
      "Train size: 0.6000000000000001\n",
      "Train size: 0.6500000000000001\n",
      "Train size: 0.7000000000000001\n",
      "Train size: 0.7500000000000001\n",
      "Train size: 0.8\n",
      "Train size: 0.8500000000000001\n",
      "Train size: 0.9000000000000001\n",
      "Train size: 0.9500000000000001\n"
     ]
    }
   ],
   "source": [
    "from sklearn.metrics import f1_score\n",
    "from sklearn.model_selection import StratifiedShuffleSplit, cross_val_score\n",
    "from xgboost import XGBClassifier\n",
    "import numpy as np\n",
    "import pandas as pd\n",
    "from scipy import stats\n",
    "\n",
    "# Define a list of values of k to try\n",
    "k_values = [6]\n",
    "\n",
    "# Define a list of train sizes to iterate through\n",
    "train_sizes = np.arange(0.05, 1, 0.05)  # Add or modify train sizes as needed\n",
    "\n",
    "# Initialize dictionaries to store the results for each k and train size\n",
    "results = {}\n",
    "\n",
    "# Load your dataset and create X, y\n",
    "# Assuming X and y are already defined\n",
    "\n",
    "# Create an XGBoost classifier\n",
    "#{'gamma': 0.0, 'learning_rate': 0.1, 'max_depth': 3, 'n_estimators': 1000, 'reg_lambda': 1.0} \n",
    "clf = XGBClassifier(gamma=0.0, learning_rate=0.1, max_depth=3, n_estimators=1000, reg_lambda=1.0)\n",
    "\n",
    "# Loop through different values of k\n",
    "for k in k_values:\n",
    "    print(f\"\\nNumber of splits (k): {k}\")\n",
    "    \n",
    "    # Initialize dictionary to store results for this k\n",
    "    k_results = {}\n",
    "\n",
    "    # Loop through different train sizes\n",
    "    for train_size in train_sizes:\n",
    "        print(f\"Train size: {train_size}\")\n",
    "        \n",
    "        # Initialize StratifiedShuffleSplit cross-validator with the current train_size\n",
    "        kf = StratifiedShuffleSplit(n_splits=k, train_size=train_size, random_state=7)\n",
    "\n",
    "        # Perform cross-validation and store the results\n",
    "        f1_scores = cross_val_score(clf, X, y, cv=kf, scoring='f1_weighted')\n",
    "\n",
    "        # Store mean and standard error of the F1 scores for this train size\n",
    "        k_results[train_size] = {'mean': np.mean(f1_scores), 'se': stats.sem(f1_scores)}\n",
    "\n",
    "    # Store the results for this k in the overall results dictionary\n",
    "    results[k] = k_results\n",
    "\n",
    "# Convert the results to a DataFrame for easier analysis and visualization\n",
    "results_df = pd.DataFrame.from_dict({(i, j): results[i][j] for i in results.keys() for j in results[i].keys()},\n",
    "                                     orient='index')\n",
    "\n",
    "# Save the results to a CSV file\n",
    "results_df.to_csv('k_train_size_vs_f1_score_mean_se_newContaminationMetric_xg.csv')"
   ]
  },
  {
   "cell_type": "code",
   "execution_count": 16,
   "metadata": {},
   "outputs": [
    {
     "name": "stdout",
     "output_type": "stream",
     "text": [
      "\n",
      "Number of splits (k): 6\n",
      "Train size: 0.05\n",
      "Train size: 0.1\n",
      "Train size: 0.15000000000000002\n",
      "Train size: 0.2\n",
      "Train size: 0.25\n",
      "Train size: 0.3\n",
      "Train size: 0.35000000000000003\n",
      "Train size: 0.4\n",
      "Train size: 0.45\n",
      "Train size: 0.5\n",
      "Train size: 0.55\n",
      "Train size: 0.6000000000000001\n",
      "Train size: 0.6500000000000001\n",
      "Train size: 0.7000000000000001\n",
      "Train size: 0.7500000000000001\n",
      "Train size: 0.8\n",
      "Train size: 0.8500000000000001\n",
      "Train size: 0.9000000000000001\n",
      "Train size: 0.9500000000000001\n"
     ]
    }
   ],
   "source": [
    "from sklearn.metrics import f1_score\n",
    "from sklearn.model_selection import StratifiedShuffleSplit, cross_val_score\n",
    "from xgboost import XGBClassifier\n",
    "import numpy as np\n",
    "import pandas as pd\n",
    "from scipy import stats\n",
    "\n",
    "# Define a list of values of k to try\n",
    "k_values = [6]\n",
    "\n",
    "# Define a list of train sizes to iterate through\n",
    "train_sizes = np.arange(0.05, 1, 0.05)  # Add or modify train sizes as needed\n",
    "\n",
    "# Initialize dictionaries to store the results for each k and train size\n",
    "results = {}\n",
    "\n",
    "# Load your dataset and create X, y\n",
    "# Assuming X and y are already defined\n",
    "\n",
    "#{'gamma': 0.0, 'learning_rate': 0.1, 'max_depth': 3, 'n_estimators': 1000, 'reg_lambda': 1.0} \n",
    "clf = XGBClassifier(gamma=0.0, learning_rate=0.1, max_depth=3, n_estimators=1000, reg_lambda=1.0)\n",
    "\n",
    "# Loop through different values of k\n",
    "for k in k_values:\n",
    "    print(f\"\\nNumber of splits (k): {k}\")\n",
    "    \n",
    "    # Initialize dictionary to store results for this k\n",
    "    k_results = {}\n",
    "\n",
    "    # Loop through different train sizes\n",
    "    for train_size in train_sizes:\n",
    "        print(f\"Train size: {train_size}\")\n",
    "        \n",
    "        # Initialize dictionary to store results for this train size\n",
    "        k_results[train_size] = {}\n",
    "\n",
    "        # Initialize StratifiedShuffleSplit cross-validator with the current train_size\n",
    "        kf = StratifiedShuffleSplit(n_splits=k, train_size=train_size, random_state=7)\n",
    "\n",
    "        # Perform cross-validation and store the results\n",
    "        for train_index, test_index in kf.split(X, y):\n",
    "            X_train, X_test = X[train_index], X[test_index]\n",
    "            y_train, y_test = y[train_index], y[test_index]\n",
    "\n",
    "            # Create and fit the XGBoost classifier\n",
    "            clf.fit(X_train, y_train)\n",
    "\n",
    "            # Predict on the test set\n",
    "            y_pred = clf.predict(X_test)\n",
    "\n",
    "            # Calculate F1 scores by class\n",
    "            class_f1_scores = f1_score(y_test, y_pred, average=None)\n",
    "            for i, score in enumerate(class_f1_scores):\n",
    "                key = f'class_{i}_f1'\n",
    "                if key not in k_results[train_size]:\n",
    "                    k_results[train_size][key] = []\n",
    "                k_results[train_size][key].append(score)\n",
    "\n",
    "        # Calculate mean and standard error of the F1 scores for this train size\n",
    "        for key in k_results[train_size]:\n",
    "            if key.startswith('class_'):\n",
    "                scores = np.array(k_results[train_size][key])\n",
    "                k_results[train_size][key] = {'mean': np.mean(scores), 'se': stats.sem(scores)}\n",
    "\n",
    "    # Store the results for this k in the overall results dictionary\n",
    "    results[k] = k_results\n",
    "\n",
    "# Convert the results to a DataFrame for easier analysis and visualization\n",
    "results_df = pd.DataFrame.from_dict({(i, j): results[i][j] for i in results.keys() for j in results[i].keys()},\n",
    "                                     orient='index')\n",
    "\n",
    "# Save the results to a CSV file\n",
    "results_df.to_csv('k_train_size_vs_f1_score_mean_se_newContaminationMetric_xg_by_class.csv')"
   ]
  }
 ],
 "metadata": {
  "kernelspec": {
   "display_name": "Python 3 (ipykernel)",
   "language": "python",
   "name": "python3"
  },
  "language_info": {
   "codemirror_mode": {
    "name": "ipython",
    "version": 3
   },
   "file_extension": ".py",
   "mimetype": "text/x-python",
   "name": "python",
   "nbconvert_exporter": "python",
   "pygments_lexer": "ipython3",
   "version": "3.11.9"
  }
 },
 "nbformat": 4,
 "nbformat_minor": 4
}
