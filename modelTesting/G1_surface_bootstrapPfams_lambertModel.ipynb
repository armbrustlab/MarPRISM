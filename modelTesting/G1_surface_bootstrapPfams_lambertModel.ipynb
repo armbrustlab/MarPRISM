{
 "cells": [
  {
   "cell_type": "code",
   "execution_count": 21,
   "metadata": {},
   "outputs": [],
   "source": [
    "import pandas as pd\n",
    "import numpy as np \n",
    "from sklearn.preprocessing import MinMaxScaler #scikit-learn==0.21.3\n",
    "from xgboost import XGBClassifier #xgboost==0.90\n",
    "from sklearn.manifold import TSNE\n",
    "import xgboost\n",
    "from sklearn.preprocessing import LabelEncoder"
   ]
  },
  {
   "cell_type": "code",
   "execution_count": 22,
   "metadata": {},
   "outputs": [
    {
     "data": {
      "text/plain": [
       "'0.90'"
      ]
     },
     "execution_count": 22,
     "metadata": {},
     "output_type": "execute_result"
    }
   ],
   "source": [
    "xgboost.__version__"
   ]
  },
  {
   "cell_type": "markdown",
   "metadata": {},
   "source": [
    "## G1 predictions"
   ]
  },
  {
   "cell_type": "code",
   "execution_count": 23,
   "metadata": {
    "scrolled": true
   },
   "outputs": [],
   "source": [
    "data = pd.read_csv('../Field_training_data_justMMETSP.csv')\n",
    "labels = pd.read_csv('../Field_training_labels_justMMETSP.csv')\n",
    "data = data.reset_index(drop=True)\n",
    "labels = labels.reset_index(drop=True)\n",
    "\n",
    "idx = labels.index[labels['Trophic mode'] == 'Un']\n",
    "train_labels = labels.drop(idx)\n",
    "train_data = data.drop(idx)\n",
    "\n",
    "features = pd.read_csv('../Extracted_Pfams.csv')\n",
    "\n",
    "G1_TPM_merged_lats = pd.read_csv('../../g1Surface/G1_surface_tpm_updatedMarferret_marmicroDb2023_noOutliers_fixedTPM_fall2023.csv')"
   ]
  },
  {
   "cell_type": "code",
   "execution_count": 24,
   "metadata": {},
   "outputs": [
    {
     "data": {
      "text/plain": [
       "Index(['PF14259'], dtype='object')"
      ]
     },
     "execution_count": 24,
     "metadata": {},
     "output_type": "execute_result"
    }
   ],
   "source": [
    "G1_TPM_merged_lats.columns[(G1_TPM_merged_lats == 0).all()]"
   ]
  },
  {
   "cell_type": "code",
   "execution_count": 27,
   "metadata": {},
   "outputs": [],
   "source": [
    "features = features['Pfam'].str.split('.').str[0]"
   ]
  },
  {
   "cell_type": "code",
   "execution_count": 28,
   "metadata": {},
   "outputs": [
    {
     "data": {
      "text/plain": [
       "1046"
      ]
     },
     "execution_count": 28,
     "metadata": {},
     "output_type": "execute_result"
    }
   ],
   "source": [
    "len(features)"
   ]
  },
  {
   "cell_type": "code",
   "execution_count": 29,
   "metadata": {},
   "outputs": [],
   "source": [
    "original_features = set(G1_TPM_merged_lats.columns)"
   ]
  },
  {
   "cell_type": "code",
   "execution_count": 30,
   "metadata": {},
   "outputs": [
    {
     "data": {
      "text/plain": [
       "{'PF02577',\n",
       " 'PF03986',\n",
       " 'PF04413',\n",
       " 'PF08017',\n",
       " 'PF08217',\n",
       " 'PF08802',\n",
       " 'PF10102',\n",
       " 'PF13427'}"
      ]
     },
     "execution_count": 30,
     "metadata": {},
     "output_type": "execute_result"
    }
   ],
   "source": [
    "missing_features = set(features) - original_features\n",
    "missing_features"
   ]
  },
  {
   "cell_type": "code",
   "execution_count": 31,
   "metadata": {},
   "outputs": [],
   "source": [
    "#Add the missing features to G1_TPM_merged_lats, filled with 0 values\n",
    "for feature in missing_features:\n",
    "    G1_TPM_merged_lats[feature] = 0"
   ]
  },
  {
   "cell_type": "code",
   "execution_count": 32,
   "metadata": {},
   "outputs": [],
   "source": [
    "G1_TPM_merged_lats = G1_TPM_merged_lats[features]"
   ]
  },
  {
   "cell_type": "code",
   "execution_count": 34,
   "metadata": {},
   "outputs": [],
   "source": [
    "train_data = train_data[features]"
   ]
  },
  {
   "cell_type": "code",
   "execution_count": 35,
   "metadata": {},
   "outputs": [
    {
     "data": {
      "text/html": [
       "<div>\n",
       "<style scoped>\n",
       "    .dataframe tbody tr th:only-of-type {\n",
       "        vertical-align: middle;\n",
       "    }\n",
       "\n",
       "    .dataframe tbody tr th {\n",
       "        vertical-align: top;\n",
       "    }\n",
       "\n",
       "    .dataframe thead th {\n",
       "        text-align: right;\n",
       "    }\n",
       "</style>\n",
       "<table border=\"1\" class=\"dataframe\">\n",
       "  <thead>\n",
       "    <tr style=\"text-align: right;\">\n",
       "      <th></th>\n",
       "      <th>PF00003</th>\n",
       "      <th>PF00004</th>\n",
       "      <th>PF00005</th>\n",
       "      <th>PF00006</th>\n",
       "      <th>PF00009</th>\n",
       "      <th>PF00011</th>\n",
       "      <th>PF00013</th>\n",
       "      <th>PF00017</th>\n",
       "      <th>PF00022</th>\n",
       "      <th>PF00026</th>\n",
       "      <th>...</th>\n",
       "      <th>PF16656</th>\n",
       "      <th>PF16670</th>\n",
       "      <th>PF16861</th>\n",
       "      <th>PF16864</th>\n",
       "      <th>PF16867</th>\n",
       "      <th>PF16874</th>\n",
       "      <th>PF16880</th>\n",
       "      <th>PF16940</th>\n",
       "      <th>PF16987</th>\n",
       "      <th>PF17070</th>\n",
       "    </tr>\n",
       "  </thead>\n",
       "  <tbody>\n",
       "    <tr>\n",
       "      <td>0</td>\n",
       "      <td>0.00000</td>\n",
       "      <td>2445.244315</td>\n",
       "      <td>3511.070480</td>\n",
       "      <td>2092.01536</td>\n",
       "      <td>3084.234790</td>\n",
       "      <td>5283.95143</td>\n",
       "      <td>499.315640</td>\n",
       "      <td>0.0000</td>\n",
       "      <td>785.471090</td>\n",
       "      <td>274.16400</td>\n",
       "      <td>...</td>\n",
       "      <td>23.04660</td>\n",
       "      <td>0.000</td>\n",
       "      <td>5.25132</td>\n",
       "      <td>0.0</td>\n",
       "      <td>19.1588</td>\n",
       "      <td>0.0</td>\n",
       "      <td>25.58290</td>\n",
       "      <td>0.000000</td>\n",
       "      <td>5.24855</td>\n",
       "      <td>0.0000</td>\n",
       "    </tr>\n",
       "    <tr>\n",
       "      <td>1</td>\n",
       "      <td>0.00000</td>\n",
       "      <td>3020.821700</td>\n",
       "      <td>2927.936428</td>\n",
       "      <td>1767.59884</td>\n",
       "      <td>5531.772976</td>\n",
       "      <td>4466.12698</td>\n",
       "      <td>585.088180</td>\n",
       "      <td>0.0000</td>\n",
       "      <td>855.852670</td>\n",
       "      <td>406.81500</td>\n",
       "      <td>...</td>\n",
       "      <td>0.00000</td>\n",
       "      <td>0.000</td>\n",
       "      <td>5.87712</td>\n",
       "      <td>0.0</td>\n",
       "      <td>16.9038</td>\n",
       "      <td>0.0</td>\n",
       "      <td>22.38250</td>\n",
       "      <td>0.000000</td>\n",
       "      <td>0.00000</td>\n",
       "      <td>0.0000</td>\n",
       "    </tr>\n",
       "    <tr>\n",
       "      <td>2</td>\n",
       "      <td>49.26959</td>\n",
       "      <td>1144.960489</td>\n",
       "      <td>1277.601550</td>\n",
       "      <td>768.94586</td>\n",
       "      <td>1366.186920</td>\n",
       "      <td>3697.23980</td>\n",
       "      <td>311.739820</td>\n",
       "      <td>0.0000</td>\n",
       "      <td>2014.111170</td>\n",
       "      <td>285.84694</td>\n",
       "      <td>...</td>\n",
       "      <td>3.55636</td>\n",
       "      <td>0.000</td>\n",
       "      <td>0.00000</td>\n",
       "      <td>0.0</td>\n",
       "      <td>0.0000</td>\n",
       "      <td>0.0</td>\n",
       "      <td>15.98250</td>\n",
       "      <td>60.403976</td>\n",
       "      <td>0.00000</td>\n",
       "      <td>0.0000</td>\n",
       "    </tr>\n",
       "    <tr>\n",
       "      <td>3</td>\n",
       "      <td>0.00000</td>\n",
       "      <td>735.994072</td>\n",
       "      <td>2160.446631</td>\n",
       "      <td>140.30273</td>\n",
       "      <td>1795.961440</td>\n",
       "      <td>74.63347</td>\n",
       "      <td>311.482154</td>\n",
       "      <td>0.0000</td>\n",
       "      <td>150.774890</td>\n",
       "      <td>150.36376</td>\n",
       "      <td>...</td>\n",
       "      <td>14.12888</td>\n",
       "      <td>0.000</td>\n",
       "      <td>0.00000</td>\n",
       "      <td>0.0</td>\n",
       "      <td>0.0000</td>\n",
       "      <td>0.0</td>\n",
       "      <td>75.22080</td>\n",
       "      <td>43.159340</td>\n",
       "      <td>0.00000</td>\n",
       "      <td>0.0000</td>\n",
       "    </tr>\n",
       "    <tr>\n",
       "      <td>4</td>\n",
       "      <td>26.39806</td>\n",
       "      <td>2391.571913</td>\n",
       "      <td>1756.057402</td>\n",
       "      <td>3248.09140</td>\n",
       "      <td>6595.681330</td>\n",
       "      <td>1062.65200</td>\n",
       "      <td>190.391680</td>\n",
       "      <td>0.0000</td>\n",
       "      <td>1872.674065</td>\n",
       "      <td>381.40553</td>\n",
       "      <td>...</td>\n",
       "      <td>0.00000</td>\n",
       "      <td>0.000</td>\n",
       "      <td>28.95807</td>\n",
       "      <td>0.0</td>\n",
       "      <td>0.0000</td>\n",
       "      <td>0.0</td>\n",
       "      <td>20.71440</td>\n",
       "      <td>16.672800</td>\n",
       "      <td>0.00000</td>\n",
       "      <td>0.0000</td>\n",
       "    </tr>\n",
       "    <tr>\n",
       "      <td>...</td>\n",
       "      <td>...</td>\n",
       "      <td>...</td>\n",
       "      <td>...</td>\n",
       "      <td>...</td>\n",
       "      <td>...</td>\n",
       "      <td>...</td>\n",
       "      <td>...</td>\n",
       "      <td>...</td>\n",
       "      <td>...</td>\n",
       "      <td>...</td>\n",
       "      <td>...</td>\n",
       "      <td>...</td>\n",
       "      <td>...</td>\n",
       "      <td>...</td>\n",
       "      <td>...</td>\n",
       "      <td>...</td>\n",
       "      <td>...</td>\n",
       "      <td>...</td>\n",
       "      <td>...</td>\n",
       "      <td>...</td>\n",
       "      <td>...</td>\n",
       "    </tr>\n",
       "    <tr>\n",
       "      <td>648</td>\n",
       "      <td>0.00000</td>\n",
       "      <td>848.648107</td>\n",
       "      <td>939.931050</td>\n",
       "      <td>610.16478</td>\n",
       "      <td>2605.628840</td>\n",
       "      <td>0.00000</td>\n",
       "      <td>505.655021</td>\n",
       "      <td>0.0000</td>\n",
       "      <td>46.897830</td>\n",
       "      <td>12.96344</td>\n",
       "      <td>...</td>\n",
       "      <td>0.00000</td>\n",
       "      <td>0.000</td>\n",
       "      <td>0.00000</td>\n",
       "      <td>0.0</td>\n",
       "      <td>0.0000</td>\n",
       "      <td>0.0</td>\n",
       "      <td>12.07640</td>\n",
       "      <td>17.349600</td>\n",
       "      <td>0.00000</td>\n",
       "      <td>0.0000</td>\n",
       "    </tr>\n",
       "    <tr>\n",
       "      <td>651</td>\n",
       "      <td>0.00000</td>\n",
       "      <td>362.558379</td>\n",
       "      <td>312.456080</td>\n",
       "      <td>109.71066</td>\n",
       "      <td>216.776890</td>\n",
       "      <td>76.02075</td>\n",
       "      <td>81.750730</td>\n",
       "      <td>0.0000</td>\n",
       "      <td>177.815230</td>\n",
       "      <td>25.71119</td>\n",
       "      <td>...</td>\n",
       "      <td>0.00000</td>\n",
       "      <td>0.000</td>\n",
       "      <td>0.00000</td>\n",
       "      <td>0.0</td>\n",
       "      <td>0.0000</td>\n",
       "      <td>0.0</td>\n",
       "      <td>16.44190</td>\n",
       "      <td>4.577090</td>\n",
       "      <td>0.00000</td>\n",
       "      <td>0.0000</td>\n",
       "    </tr>\n",
       "    <tr>\n",
       "      <td>652</td>\n",
       "      <td>0.00000</td>\n",
       "      <td>596.994332</td>\n",
       "      <td>667.995930</td>\n",
       "      <td>174.25081</td>\n",
       "      <td>53.931910</td>\n",
       "      <td>401.58490</td>\n",
       "      <td>201.488640</td>\n",
       "      <td>0.0000</td>\n",
       "      <td>227.160990</td>\n",
       "      <td>249.82880</td>\n",
       "      <td>...</td>\n",
       "      <td>0.00000</td>\n",
       "      <td>0.000</td>\n",
       "      <td>0.00000</td>\n",
       "      <td>0.0</td>\n",
       "      <td>0.0000</td>\n",
       "      <td>0.0</td>\n",
       "      <td>0.00000</td>\n",
       "      <td>0.000000</td>\n",
       "      <td>0.00000</td>\n",
       "      <td>0.0000</td>\n",
       "    </tr>\n",
       "    <tr>\n",
       "      <td>653</td>\n",
       "      <td>0.00000</td>\n",
       "      <td>2689.748840</td>\n",
       "      <td>1577.127220</td>\n",
       "      <td>644.04063</td>\n",
       "      <td>3474.856100</td>\n",
       "      <td>1328.19190</td>\n",
       "      <td>266.495400</td>\n",
       "      <td>0.0000</td>\n",
       "      <td>236.883390</td>\n",
       "      <td>647.61326</td>\n",
       "      <td>...</td>\n",
       "      <td>25.49890</td>\n",
       "      <td>36.506</td>\n",
       "      <td>0.00000</td>\n",
       "      <td>0.0</td>\n",
       "      <td>0.0000</td>\n",
       "      <td>0.0</td>\n",
       "      <td>20.50850</td>\n",
       "      <td>74.253000</td>\n",
       "      <td>0.00000</td>\n",
       "      <td>31.4703</td>\n",
       "    </tr>\n",
       "    <tr>\n",
       "      <td>654</td>\n",
       "      <td>172.36759</td>\n",
       "      <td>1660.771387</td>\n",
       "      <td>954.468586</td>\n",
       "      <td>893.00278</td>\n",
       "      <td>5205.533550</td>\n",
       "      <td>561.38813</td>\n",
       "      <td>101.940050</td>\n",
       "      <td>863.0383</td>\n",
       "      <td>26738.195640</td>\n",
       "      <td>970.58559</td>\n",
       "      <td>...</td>\n",
       "      <td>89.62337</td>\n",
       "      <td>0.000</td>\n",
       "      <td>0.00000</td>\n",
       "      <td>0.0</td>\n",
       "      <td>0.0000</td>\n",
       "      <td>0.0</td>\n",
       "      <td>2.68081</td>\n",
       "      <td>13.858130</td>\n",
       "      <td>17.60085</td>\n",
       "      <td>0.0000</td>\n",
       "    </tr>\n",
       "  </tbody>\n",
       "</table>\n",
       "<p>446 rows × 1046 columns</p>\n",
       "</div>"
      ],
      "text/plain": [
       "       PF00003      PF00004      PF00005     PF00006      PF00009     PF00011  \\\n",
       "0      0.00000  2445.244315  3511.070480  2092.01536  3084.234790  5283.95143   \n",
       "1      0.00000  3020.821700  2927.936428  1767.59884  5531.772976  4466.12698   \n",
       "2     49.26959  1144.960489  1277.601550   768.94586  1366.186920  3697.23980   \n",
       "3      0.00000   735.994072  2160.446631   140.30273  1795.961440    74.63347   \n",
       "4     26.39806  2391.571913  1756.057402  3248.09140  6595.681330  1062.65200   \n",
       "..         ...          ...          ...         ...          ...         ...   \n",
       "648    0.00000   848.648107   939.931050   610.16478  2605.628840     0.00000   \n",
       "651    0.00000   362.558379   312.456080   109.71066   216.776890    76.02075   \n",
       "652    0.00000   596.994332   667.995930   174.25081    53.931910   401.58490   \n",
       "653    0.00000  2689.748840  1577.127220   644.04063  3474.856100  1328.19190   \n",
       "654  172.36759  1660.771387   954.468586   893.00278  5205.533550   561.38813   \n",
       "\n",
       "        PF00013   PF00017       PF00022    PF00026  ...   PF16656  PF16670  \\\n",
       "0    499.315640    0.0000    785.471090  274.16400  ...  23.04660    0.000   \n",
       "1    585.088180    0.0000    855.852670  406.81500  ...   0.00000    0.000   \n",
       "2    311.739820    0.0000   2014.111170  285.84694  ...   3.55636    0.000   \n",
       "3    311.482154    0.0000    150.774890  150.36376  ...  14.12888    0.000   \n",
       "4    190.391680    0.0000   1872.674065  381.40553  ...   0.00000    0.000   \n",
       "..          ...       ...           ...        ...  ...       ...      ...   \n",
       "648  505.655021    0.0000     46.897830   12.96344  ...   0.00000    0.000   \n",
       "651   81.750730    0.0000    177.815230   25.71119  ...   0.00000    0.000   \n",
       "652  201.488640    0.0000    227.160990  249.82880  ...   0.00000    0.000   \n",
       "653  266.495400    0.0000    236.883390  647.61326  ...  25.49890   36.506   \n",
       "654  101.940050  863.0383  26738.195640  970.58559  ...  89.62337    0.000   \n",
       "\n",
       "      PF16861  PF16864  PF16867  PF16874   PF16880    PF16940   PF16987  \\\n",
       "0     5.25132      0.0  19.1588      0.0  25.58290   0.000000   5.24855   \n",
       "1     5.87712      0.0  16.9038      0.0  22.38250   0.000000   0.00000   \n",
       "2     0.00000      0.0   0.0000      0.0  15.98250  60.403976   0.00000   \n",
       "3     0.00000      0.0   0.0000      0.0  75.22080  43.159340   0.00000   \n",
       "4    28.95807      0.0   0.0000      0.0  20.71440  16.672800   0.00000   \n",
       "..        ...      ...      ...      ...       ...        ...       ...   \n",
       "648   0.00000      0.0   0.0000      0.0  12.07640  17.349600   0.00000   \n",
       "651   0.00000      0.0   0.0000      0.0  16.44190   4.577090   0.00000   \n",
       "652   0.00000      0.0   0.0000      0.0   0.00000   0.000000   0.00000   \n",
       "653   0.00000      0.0   0.0000      0.0  20.50850  74.253000   0.00000   \n",
       "654   0.00000      0.0   0.0000      0.0   2.68081  13.858130  17.60085   \n",
       "\n",
       "     PF17070  \n",
       "0     0.0000  \n",
       "1     0.0000  \n",
       "2     0.0000  \n",
       "3     0.0000  \n",
       "4     0.0000  \n",
       "..       ...  \n",
       "648   0.0000  \n",
       "651   0.0000  \n",
       "652   0.0000  \n",
       "653  31.4703  \n",
       "654   0.0000  \n",
       "\n",
       "[446 rows x 1046 columns]"
      ]
     },
     "execution_count": 35,
     "metadata": {},
     "output_type": "execute_result"
    }
   ],
   "source": [
    "train_data"
   ]
  },
  {
   "cell_type": "code",
   "execution_count": 36,
   "metadata": {},
   "outputs": [],
   "source": [
    "X,y = train_data, train_labels['Trophic mode']\n",
    "scaler = MinMaxScaler()\n",
    "X = scaler.fit_transform(X)"
   ]
  },
  {
   "cell_type": "code",
   "execution_count": 37,
   "metadata": {},
   "outputs": [
    {
     "data": {
      "text/plain": [
       "XGBClassifier(base_score=0.5, booster='gbtree', colsample_bylevel=1,\n",
       "              colsample_bynode=1, colsample_bytree=1, gamma=0.0,\n",
       "              learning_rate=0.5, max_delta_step=0, max_depth=3,\n",
       "              min_child_weight=1, missing=None, n_estimators=10, n_jobs=1,\n",
       "              nthread=None, objective='multi:softprob', random_state=0,\n",
       "              reg_alpha=0, reg_lambda=0.0, scale_pos_weight=1, seed=None,\n",
       "              silent=None, subsample=1, verbosity=1)"
      ]
     },
     "execution_count": 37,
     "metadata": {},
     "output_type": "execute_result"
    }
   ],
   "source": [
    "#gamma: 0.5, learning_rate: 0.2, max_depth: 3, n_estimators: 100, reg_lambda: 0.0 \n",
    "model = XGBClassifier(gamma=0.0, learning_rate=0.5, max_depth=3, n_estimators=10, reg_lambda=0.)\n",
    "model.fit(X,y)"
   ]
  },
  {
   "cell_type": "code",
   "execution_count": 38,
   "metadata": {},
   "outputs": [],
   "source": [
    "# Initialize empty DataFrames to store results\n",
    "input_pfams = pd.DataFrame()\n",
    "output_predictions = pd.DataFrame()\n",
    "excluded_pfams = pd.DataFrame()"
   ]
  },
  {
   "cell_type": "code",
   "execution_count": 39,
   "metadata": {},
   "outputs": [],
   "source": [
    "for i in range (0, 30):\n",
    "    features1 = features.sample(frac =.9)\n",
    "    excluded = list(set(features) - set(features1))\n",
    "    G1 = G1_TPM_merged_lats.copy()\n",
    "    G1[excluded] = 0\n",
    "    G1 = scaler.transform(G1)\n",
    "    xg_predictions = model.predict(G1)\n",
    "    input_pfams[f'col{i}'] = features1\n",
    "    output_predictions[f'col{i}'] = xg_predictions\n",
    "    excluded_pfams[f'col{i}'] = excluded"
   ]
  },
  {
   "cell_type": "code",
   "execution_count": 40,
   "metadata": {},
   "outputs": [],
   "source": [
    "input_pfams.to_csv('/Users/elainathomas/Dropbox/grad/research/g1Surface/bootstrapPfams_lambert.csv')"
   ]
  },
  {
   "cell_type": "code",
   "execution_count": 41,
   "metadata": {},
   "outputs": [],
   "source": [
    "output_predictions.to_csv('/Users/elainathomas/Dropbox/grad/research/g1Surface/bootstrapPredictions_lambert.csv')"
   ]
  },
  {
   "cell_type": "code",
   "execution_count": 42,
   "metadata": {},
   "outputs": [],
   "source": [
    "excluded_pfams.to_csv('/Users/elainathomas/Dropbox/grad/research/g1Surface/bootstrapPfamsExcluded_lambert.csv')"
   ]
  }
 ],
 "metadata": {
  "kernelspec": {
   "display_name": "Python 3 (ipykernel)",
   "language": "python",
   "name": "python3"
  },
  "language_info": {
   "codemirror_mode": {
    "name": "ipython",
    "version": 3
   },
   "file_extension": ".py",
   "mimetype": "text/x-python",
   "name": "python",
   "nbconvert_exporter": "python",
   "pygments_lexer": "ipython3",
   "version": "3.7.12"
  }
 },
 "nbformat": 4,
 "nbformat_minor": 4
}
